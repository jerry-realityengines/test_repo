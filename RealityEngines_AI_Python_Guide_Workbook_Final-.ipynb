{
  "nbformat": 4,
  "nbformat_minor": 0,
  "metadata": {
    "colab": {
      "name": "RealityEngines.AI Python Guide Workbook - Final",
      "provenance": [],
      "collapsed_sections": [
        "VXaOu5Zkdqqw"
      ]
    },
    "kernelspec": {
      "name": "python3",
      "display_name": "Python 3"
    }
  },
  "cells": [
    {
      "cell_type": "markdown",
      "metadata": {
        "id": "G9Aba1iFFs5h",
        "colab_type": "text"
      },
      "source": [
        "# Welcome to the RealityEngines.AI Recommendations Engine Workbook! \n",
        "This workbook provides you with a hands on environment to build a Recommendations Model using the RealityEngines.AI Python Client Library.\n",
        "\n",
        "## Prerequisites\n",
        "\n",
        "- [Sign up](https://realityengines.ai/app/signup) for RealityEngines.AI\n",
        "- Navigate to the [API Keys Dashboard](https://realityengines.ai/app/profile/apikey) and generate an API key\n",
        "\n",
        "\n",
        "---\n",
        "\n",
        "\n",
        "\n"
      ]
    },
    {
      "cell_type": "markdown",
      "metadata": {
        "colab_type": "text",
        "id": "LzAYBj5ylpej"
      },
      "source": [
        "## Set up your development environment\n",
        "\n"
      ]
    },
    {
      "cell_type": "markdown",
      "metadata": {
        "id": "L-WTYj7Nieil",
        "colab_type": "text"
      },
      "source": [
        "1. Install the RealityEngines.AI library with the command below\n"
      ]
    },
    {
      "cell_type": "code",
      "metadata": {
        "id": "k4emnSysKSaY",
        "colab_type": "code",
        "colab": {}
      },
      "source": [
        "!pip install realityengines "
      ],
      "execution_count": 0,
      "outputs": []
    },
    {
      "cell_type": "markdown",
      "metadata": {
        "id": "LeyQkA6WjumS",
        "colab_type": "text"
      },
      "source": [
        "2. Add your RealityEngines.AI [API Key](https://realityengines.ai/app/profile/apikey)."
      ]
    },
    {
      "cell_type": "code",
      "metadata": {
        "id": "VdDKk-zpKjpR",
        "colab_type": "code",
        "colab": {}
      },
      "source": [
        "#@title RealityEngines.AI API Key\n",
        "\n",
        "api_key = ''  #@param {type: \"string\"}"
      ],
      "execution_count": 0,
      "outputs": []
    },
    {
      "cell_type": "markdown",
      "metadata": {
        "id": "8hbp4_iOjGh4",
        "colab_type": "text"
      },
      "source": [
        "3. Import the RealityEngines.AI library and instatiate a client."
      ]
    },
    {
      "cell_type": "code",
      "metadata": {
        "id": "HpmvWp9ZWJgo",
        "colab_type": "code",
        "colab": {}
      },
      "source": [
        "from realityengines.client import ReClient"
      ],
      "execution_count": 0,
      "outputs": []
    },
    {
      "cell_type": "code",
      "metadata": {
        "id": "pmEWM-EWj2Ta",
        "colab_type": "code",
        "colab": {}
      },
      "source": [
        "client = ReClient(api_key)"
      ],
      "execution_count": 0,
      "outputs": []
    },
    {
      "cell_type": "markdown",
      "metadata": {
        "id": "T5pxNzDWHEoT",
        "colab_type": "text"
      },
      "source": [
        "## 1. Create a Project\n",
        "\n",
        "Projects are the basic containers in RealityEngines.AI. By providing a business use case, we tailor our deep learning algorithms to produce the best performing model possible.\n",
        "\n",
        "The command below will create a project with the name, \"Example Movie Recommendations\" and assigned the use case, \"USER_RECOMMENDATION.\" You use the optional command below to see all available use cases."
      ]
    },
    {
      "cell_type": "code",
      "metadata": {
        "id": "gcNWK81_M779",
        "colab_type": "code",
        "colab": {}
      },
      "source": [
        "project = client.create_project(name='Example Movie Recommendations', use_case='USER_RECOMMENDATIONS')\n",
        "project.to_dict()"
      ],
      "execution_count": 0,
      "outputs": []
    },
    {
      "cell_type": "markdown",
      "metadata": {
        "id": "VXaOu5Zkdqqw",
        "colab_type": "text"
      },
      "source": [
        "### (Optional) See all available use cases"
      ]
    },
    {
      "cell_type": "code",
      "metadata": {
        "id": "yO-AKRTRHpmx",
        "colab_type": "code",
        "colab": {}
      },
      "source": [
        "client.list_use_cases()"
      ],
      "execution_count": 0,
      "outputs": []
    },
    {
      "cell_type": "markdown",
      "metadata": {
        "id": "Eim76WOzG0Gi",
        "colab_type": "text"
      },
      "source": [
        "## 2. Import Datasets to your Project\n",
        "\n",
        "Just like RealityEngines.AI Projects have a type, we also have special dataset types to help declare the purpose of each file."
      ]
    },
    {
      "cell_type": "markdown",
      "metadata": {
        "id": "OGLbZojtZooa",
        "colab_type": "text"
      },
      "source": [
        "For this workbook we have provided a few smaller datasets to teach you how to import datasets into a project.\n",
        "\n",
        "Links to the sample datasets used in this example:\n",
        "\n",
        "- [movies_small.csv](https://github.com/jerry-realityengines/test_repo/blob/master/movies_small.csv)\n",
        "- [ratings_small.csv](https://github.com/jerry-realityengines/test_repo/blob/master/ratings_small.csv)\n"
      ]
    },
    {
      "cell_type": "markdown",
      "metadata": {
        "id": "rsWO9_kIs87H",
        "colab_type": "text"
      },
      "source": [
        "You can use the commands below to check what kind of datasets are required for your use case."
      ]
    },
    {
      "cell_type": "code",
      "metadata": {
        "colab_type": "code",
        "id": "oojgLutfbyuu",
        "colab": {}
      },
      "source": [
        "#@title RealityEngines.AI Use Case\n",
        "\n",
        "use_case = 'USER_RECOMMENDATIONS'  #@param {type: \"string\"}"
      ],
      "execution_count": 0,
      "outputs": []
    },
    {
      "cell_type": "code",
      "metadata": {
        "id": "iiZfAh_swEQd",
        "colab_type": "code",
        "colab": {}
      },
      "source": [
        "client.describe_use_case_requirements(use_case)"
      ],
      "execution_count": 0,
      "outputs": []
    },
    {
      "cell_type": "markdown",
      "metadata": {
        "id": "jxP4rwnJa5Nl",
        "colab_type": "text"
      },
      "source": [
        "The next set of commands allows you to upload and attach your datasets to your project. "
      ]
    },
    {
      "cell_type": "code",
      "metadata": {
        "colab_type": "code",
        "id": "5ReECotMtTLA",
        "cellView": "both",
        "colab": {}
      },
      "source": [
        "#@title Dataset Download Location\n",
        "\n",
        "# Change this value if the datasets are in a different directory from this notebook's context\n",
        "DOWNLOAD_LOCATION = ''  #@param {type: \"string\"}"
      ],
      "execution_count": 0,
      "outputs": []
    },
    {
      "cell_type": "code",
      "metadata": {
        "id": "IQv1bG4TLmMz",
        "colab_type": "code",
        "colab": {}
      },
      "source": [
        "import os\n",
        "interactions_upload = client.create_dataset_upload('Movie Ratings', project_id=project.project_id, project_dataset_type='USER_ITEM_INTERACTIONS')\n",
        "with open(os.path.join(DOWNLOAD_LOCATION, 'ratings_small.csv')) as file:\n",
        "    interactions_dataset = interactions_upload.upload_file(file)\n",
        "\n",
        "items_upload = client.create_dataset_upload('Movie Infos', project_id=project.project_id, project_dataset_type='ITEM_ATTRIBUTES')\n",
        "with open(os.path.join(DOWNLOAD_LOCATION, 'movies_small.csv')) as file:\n",
        "    items_dataset = items_upload.upload_file(file)\n",
        "\n",
        "uploaded_datasets = [interactions_dataset, items_dataset]"
      ],
      "execution_count": 0,
      "outputs": []
    },
    {
      "cell_type": "markdown",
      "metadata": {
        "id": "0sEGPu7U10vY",
        "colab_type": "text"
      },
      "source": [
        "The command below is a blocking call for each dataset; RealityEngines.AI is processing and inspecting the datasets to automatically detect the schema."
      ]
    },
    {
      "cell_type": "code",
      "metadata": {
        "id": "5hzHQMCL3cWN",
        "colab_type": "code",
        "colab": {}
      },
      "source": [
        "for dataset in uploaded_datasets:\n",
        "    dataset.wait_for_inspection()"
      ],
      "execution_count": 0,
      "outputs": []
    },
    {
      "cell_type": "markdown",
      "metadata": {
        "id": "XNEZuUlPMAOS",
        "colab_type": "text"
      },
      "source": [
        "To see how RealityEngines.AI detected the dataset schemas, we can list the project's datasets and inspect the schema:"
      ]
    },
    {
      "cell_type": "code",
      "metadata": {
        "id": "WgECP_NCL_78",
        "colab_type": "code",
        "colab": {}
      },
      "source": [
        "project_datasets = project.list_datasets()\n",
        "project_datasets[0].project_dataset_schema.to_dict()"
      ],
      "execution_count": 0,
      "outputs": []
    },
    {
      "cell_type": "markdown",
      "metadata": {
        "id": "iTf_ooRSb_8M",
        "colab_type": "text"
      },
      "source": [
        "# 3. Train a Model"
      ]
    },
    {
      "cell_type": "markdown",
      "metadata": {
        "id": "OVFlxlfriWcX",
        "colab_type": "text"
      },
      "source": [
        "We've automatically detected the schema for your datasets, identified the ID columns and joined the metadata on top of the ratings datasets. We're ready to train!\n",
        "\n",
        "To be sure, let's call `Validate Datasets` to confirm that we have all the required datasets and each of our datasets have all the required columns."
      ]
    },
    {
      "cell_type": "code",
      "metadata": {
        "id": "8_apKGEwduqa",
        "colab_type": "code",
        "colab": {}
      },
      "source": [
        "project.validate_datasets().valid"
      ],
      "execution_count": 0,
      "outputs": []
    },
    {
      "cell_type": "code",
      "metadata": {
        "id": "BGdnu7PEH6_e",
        "colab_type": "code",
        "colab": {}
      },
      "source": [
        "model = project.train_model()"
      ],
      "execution_count": 0,
      "outputs": []
    },
    {
      "cell_type": "markdown",
      "metadata": {
        "id": "Ipg_8IH5eBFp",
        "colab_type": "text"
      },
      "source": [
        "After we start training the model, we can call this blocking call that continually checks the status of the model until it is done training and evaluating."
      ]
    },
    {
      "cell_type": "code",
      "metadata": {
        "id": "MKZf4SXdI-Gh",
        "colab_type": "code",
        "colab": {}
      },
      "source": [
        "model.wait_for_evaluation()"
      ],
      "execution_count": 0,
      "outputs": []
    },
    {
      "cell_type": "markdown",
      "metadata": {
        "id": "9vdCTUkfiw-S",
        "colab_type": "text"
      },
      "source": [
        "### Evaluate your Model Metrics\n",
        "\n",
        "The last step after model training is model evaluation, where various metrics are generated that allow you to get an idea of the quality of the model."
      ]
    },
    {
      "cell_type": "code",
      "metadata": {
        "id": "PzO3h7Bfi6sb",
        "colab_type": "code",
        "colab": {}
      },
      "source": [
        "model.get_metrics()"
      ],
      "execution_count": 0,
      "outputs": []
    },
    {
      "cell_type": "markdown",
      "metadata": {
        "id": "L-WZq3xcI4BD",
        "colab_type": "text"
      },
      "source": [
        "# 4. Deploy Model"
      ]
    },
    {
      "cell_type": "markdown",
      "metadata": {
        "id": "aR-kMYmMxp6G",
        "colab_type": "text"
      },
      "source": [
        "After we have successfully trained our model with our datasets, we need to create a deployment to be able to use our model to perform predictions. Each deployment makes the trained model available for prediction requests from both users and other software systems.\n",
        "\n",
        "\n",
        "We can use the command below to deploy the model we just trained."
      ]
    },
    {
      "cell_type": "code",
      "metadata": {
        "id": "BehWSbWxfB9E",
        "colab_type": "code",
        "colab": {}
      },
      "source": [
        "deployment = model.create_deployment('My First Model Deployment')\n",
        "deployment.wait_for_deployment()  # It can take a minute or two for a deployment to be ready"
      ],
      "execution_count": 0,
      "outputs": []
    },
    {
      "cell_type": "markdown",
      "metadata": {
        "id": "eNYnntWlmAvy",
        "colab_type": "text"
      },
      "source": [
        "After we deploy our model, we need to create a deployment token for authentication. This token is only authorized to predict on deployments in this project, so it's safe to embed this model inside of an application or website. \n"
      ]
    },
    {
      "cell_type": "code",
      "metadata": {
        "id": "B2dsDXsDmOCb",
        "colab_type": "code",
        "colab": {}
      },
      "source": [
        "deployment_token = project.create_deployment_token()\n",
        "deployment_token"
      ],
      "execution_count": 0,
      "outputs": []
    },
    {
      "cell_type": "markdown",
      "metadata": {
        "id": "IZlcq5f7Jp8p",
        "colab_type": "text"
      },
      "source": [
        "## 5. Predict"
      ]
    },
    {
      "cell_type": "markdown",
      "metadata": {
        "id": "NnHb1Hkymdkm",
        "colab_type": "text"
      },
      "source": [
        "Once the deployment is Active and you have a deployment token for this project, you can call the prediction request command below. The 'userId' variable assigned to 'data' is the userId for each user included in your datasets. An example userId you can use is: '1107'."
      ]
    },
    {
      "cell_type": "code",
      "metadata": {
        "id": "YdXSji2gJuYx",
        "colab_type": "code",
        "colab": {}
      },
      "source": [
        "client.predict(deployment_id=deployment.deployment_id, auth_token= deployment_token.auth_token, data={'userId': '1107'})"
      ],
      "execution_count": 0,
      "outputs": []
    }
  ]
}